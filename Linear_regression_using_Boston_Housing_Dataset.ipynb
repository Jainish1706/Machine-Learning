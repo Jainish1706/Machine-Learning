{
  "nbformat": 4,
  "nbformat_minor": 0,
  "metadata": {
    "colab": {
      "provenance": []
    },
    "kernelspec": {
      "name": "python3",
      "display_name": "Python 3"
    },
    "language_info": {
      "name": "python"
    }
  },
  "cells": [
    {
      "cell_type": "code",
      "execution_count": null,
      "metadata": {
        "id": "sn5HyujCpUhy"
      },
      "outputs": [],
      "source": [
        "import numpy as np\n",
        "from sklearn.linear_model import LinearRegression\n",
        "from sklearn.model_selection import train_test_split\n",
        "from sklearn.metrics import mean_squared_error\n",
        "from sklearn.metrics import r2_score\n",
        "import pandas as pd"
      ]
    },
    {
      "cell_type": "code",
      "source": [
        "BosData = pd.read_csv('BostonHousing.csv')\n",
        "X = BosData.iloc[:,0:13]\n",
        "y = BosData.iloc[:,13]"
      ],
      "metadata": {
        "id": "37-psWYyp7ds"
      },
      "execution_count": null,
      "outputs": []
    },
    {
      "cell_type": "code",
      "source": [
        "X_train, X_test, y_train, y_test = train_test_split(X,y,test_size = 0.2, random_state = 5)\n",
        "reg = LinearRegression()\n",
        "reg.fit(X_train, y_train)"
      ],
      "metadata": {
        "id": "Zg2Ca3YaqnFC"
      },
      "execution_count": null,
      "outputs": []
    },
    {
      "cell_type": "code",
      "source": [
        "y_train_predict = reg.predict(X_train)\n",
        "rmse = np.sqrt(mean_squared_error(y_train, y_train_predict))\n",
        "r2 = r2_score(y_train, y_train_predict)"
      ],
      "metadata": {
        "id": "uvHjsujcq7bf"
      },
      "execution_count": null,
      "outputs": []
    },
    {
      "cell_type": "code",
      "source": [
        "print('Train RMSE = ', rmse)\n",
        "print(\"Train R2 Score = \", r2)"
      ],
      "metadata": {
        "colab": {
          "base_uri": "https://localhost:8080/"
        },
        "id": "rIjyBGJurNBZ",
        "outputId": "412d8040-d6ad-44c2-a01a-e1e3f953d9cc"
      },
      "execution_count": null,
      "outputs": [
        {
          "output_type": "stream",
          "name": "stdout",
          "text": [
            "Train RMSE =  4.741000992236516\n",
            "Train R2 Score =  0.738339392059052\n"
          ]
        }
      ]
    },
    {
      "cell_type": "code",
      "source": [
        "y_test_predict = reg.predict(X_test)\n",
        "rmse = (np.sqrt(mean_squared_error(y_test, y_test_predict)))\n",
        "r2 = r2_score(y_test, y_test_predict)\n",
        "print('Test RMSE = ', rmse)\n",
        "print('Test R2 Score = ', r2)"
      ],
      "metadata": {
        "colab": {
          "base_uri": "https://localhost:8080/"
        },
        "id": "y_t1H_syrVTD",
        "outputId": "57b7f787-f6a1-4fae-e280-1f59e625d85e"
      },
      "execution_count": null,
      "outputs": [
        {
          "output_type": "stream",
          "name": "stdout",
          "text": [
            "Test RMSE =  4.568292042303193\n",
            "Test R2 Score =  0.7334492147453091\n"
          ]
        }
      ]
    }
  ]
}