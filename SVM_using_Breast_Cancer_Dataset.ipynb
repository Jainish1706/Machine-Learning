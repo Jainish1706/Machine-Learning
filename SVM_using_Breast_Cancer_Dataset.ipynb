{
  "nbformat": 4,
  "nbformat_minor": 0,
  "metadata": {
    "colab": {
      "provenance": []
    },
    "kernelspec": {
      "name": "python3",
      "display_name": "Python 3"
    },
    "language_info": {
      "name": "python"
    }
  },
  "cells": [
    {
      "cell_type": "code",
      "execution_count": null,
      "metadata": {
        "id": "3GwiNB9CUFyo"
      },
      "outputs": [],
      "source": [
        "from sklearn import datasets\n",
        "from sklearn.model_selection import train_test_split\n",
        "from sklearn.metrics import confusion_matrix\n",
        "from sklearn.preprocessing import StandardScaler\n",
        "from sklearn.metrics import accuracy_score\n",
        "from sklearn.svm import SVC"
      ]
    },
    {
      "cell_type": "code",
      "source": [
        "bcancer = datasets.load_breast_cancer()\n",
        "X = bcancer.data\n",
        "Y = bcancer.target\n",
        "scaler = StandardScaler()\n",
        "X = scaler.fit_transform(X)"
      ],
      "metadata": {
        "id": "wt0prDWEUdZD"
      },
      "execution_count": null,
      "outputs": []
    },
    {
      "cell_type": "code",
      "source": [
        "Xtrain, Xtest, Ytrain, Ytest = train_test_split(X,Y,test_size = 0.25, random_state = 0)"
      ],
      "metadata": {
        "id": "TjTPzd_CUuY4"
      },
      "execution_count": null,
      "outputs": []
    },
    {
      "cell_type": "code",
      "source": [
        "svmc = SVC(kernel = 'linear', random_state = 0)\n",
        "svmc.fit(Xtrain,Ytrain)\n",
        "Ypred = svmc.predict(Xtest)\n",
        "svmcscore = accuracy_score(Ypred, Ytest)\n",
        "print(\"Accuracy is: \", 100*svmcscore,\"%\\n\")\n",
        "cmat = confusion_matrix(Ytest, Ypred)\n",
        "print(cmat)"
      ],
      "metadata": {
        "colab": {
          "base_uri": "https://localhost:8080/"
        },
        "id": "wvD1zux4U4q7",
        "outputId": "4740205e-36f4-473b-df13-ef8409baf7da"
      },
      "execution_count": null,
      "outputs": [
        {
          "output_type": "stream",
          "name": "stdout",
          "text": [
            "Accuracy is:  97.2027972027972 %\n",
            "\n",
            "[[51  2]\n",
            " [ 2 88]]\n"
          ]
        }
      ]
    },
    {
      "cell_type": "code",
      "source": [
        "ksvmc = SVC(kernel = 'rbf', random_state = 0)\n",
        "ksvmc.fit(Xtrain,Ytrain)\n",
        "Ypred = ksvmc.predict(Xtest)\n",
        "svmcscore = accuracy_score(Ypred, Ytest)\n",
        "print(\"Accuracy is: \", 100*svmcscore,\"%\\n\")\n",
        "cmat = confusion_matrix(Ytest, Ypred)\n",
        "print(cmat)"
      ],
      "metadata": {
        "colab": {
          "base_uri": "https://localhost:8080/"
        },
        "id": "bRdC2VkDVc_U",
        "outputId": "b3f4a7da-3a99-4ead-961c-d448b04f3600"
      },
      "execution_count": null,
      "outputs": [
        {
          "output_type": "stream",
          "name": "stdout",
          "text": [
            "Accuracy is:  96.5034965034965 %\n",
            "\n",
            "[[50  3]\n",
            " [ 2 88]]\n"
          ]
        }
      ]
    }
  ]
}